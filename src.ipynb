{
 "cells": [
  {
   "cell_type": "code",
   "execution_count": 2,
   "metadata": {
    "collapsed": true
   },
   "outputs": [],
   "source": [
    "from bs4 import BeautifulSoup as bsoup #need bs for that sweet, sweet web scraping\n",
    "from urllib.request import urlopen #need to get url\n",
    "import requests\n",
    "from datetime import date #need to pull the current date\n",
    "import calendar #calendar can find the name of the month\n",
    "import string\n",
    "import markovify\n",
    "import random\n",
    "\n",
    "headers = {'User-Agent':'Mozilla/5.0'}"
   ]
  },
  {
   "cell_type": "code",
   "execution_count": 3,
   "metadata": {},
   "outputs": [
    {
     "name": "stdout",
     "output_type": "stream",
     "text": [
      "Now running for  https://en.wikipedia.org/wiki/June_12\n"
     ]
    }
   ],
   "source": [
    "#find today's date and fetch the wiki page\n",
    "today = date.today()\n",
    "wikiUrl = \"https://en.wikipedia.org/wiki/\"+calendar.month_name[today.month]+\"_\"+str(today.day)\n",
    "print(\"Now running for \", wikiUrl) #just checking\n",
    "\n",
    "wikiPage = requests.get(wikiUrl)\n",
    "wikiSoup = bsoup(wikiPage.text, \"html.parser\")\n",
    "\n",
    "#gets the unordered list for events that day\n",
    "events_li = wikiSoup.find_all(\"ul\")[1].find_all(\"li\")"
   ]
  },
  {
   "cell_type": "code",
   "execution_count": 4,
   "metadata": {
    "collapsed": true
   },
   "outputs": [],
   "source": [
    "dayUrl = \"http://www.onthisday.com/today/events.php\"\n",
    "page = requests.get(dayUrl)\n",
    "daySoup = bsoup(page.text, \"html.parser\")\n",
    "dayList = daySoup.findAll(\"li\", { \"class\" : \"event-list__item\" })\n",
    "specials = daySoup.find_all(\"p\") #some events are in paragraph tags\n",
    "dayList.extend(specials[2:len(specials)-1])"
   ]
  },
  {
   "cell_type": "code",
   "execution_count": 5,
   "metadata": {
    "scrolled": true
   },
   "outputs": [],
   "source": [
    "#lists for the event dates and the events themselves\n",
    "dates = [] #the isolated dates\n",
    "events = [] #events\n",
    "\n",
    "#iterate through all events in the list\n",
    "for event in events_li:\n",
    "    #split them to separate date and description\n",
    "    temp = event.get_text().split(\"–\")\n",
    "    #add date to dates\n",
    "    dates.append(temp[0])\n",
    "    #take a slice of the rest and join it to take care of the '–' char elsewhere\n",
    "    events.append(\"\".join(temp[1::]))\n",
    "    #this line would take out the titles leading each line\n",
    "    #events.append(\"\".join(\"\".join(temp[1::]).split(\":\")[1::]))"
   ]
  },
  {
   "cell_type": "code",
   "execution_count": 6,
   "metadata": {
    "collapsed": true
   },
   "outputs": [],
   "source": [
    "#insert events from on this day\n",
    "for event in dayList:\n",
    "    #get the string of the event and strip the leading date or range of dates\n",
    "    eventString = event.get_text().lstrip(string.digits+string.whitespace + '[-]')\n",
    "    #get a string of the rest and add period if there isn't one for markovify\n",
    "    if not eventString[len(eventString)-1] == \".\":\n",
    "        eventString += \".\"\n",
    "    events.append(\" \" + eventString)"
   ]
  },
  {
   "cell_type": "code",
   "execution_count": 10,
   "metadata": {
    "scrolled": false
   },
   "outputs": [
    {
     "name": "stdout",
     "output_type": "stream",
     "text": [
      "SHORT SENTENCE\n",
      "910: Anti-apartheid activist and ANC leader Nelson Mandela is sentenced to death for crimes he had committed during his 13-year rule.\n",
      "910: Bryan Allen wins the second Navy Bill, which calls for 50,000 volunteers to stop Federates from taking over his state.\n",
      "910: Los Angeles Lakers beat New Jersey Nets, 4 games to 2. th Tony Awards: The Book of Mormon & War Horse win.\n",
      "910: An election takes place in Nigeria which is capable of selectively absorbing carbon dioxide, is created.\n",
      "910: Connie Mack named Honorary Manager of the 101st Airborne Division secure the town of Carentan.\n"
     ]
    }
   ],
   "source": [
    "#time to get into real markov stuff\n",
    "textModel = markovify.Text(\"\".join(events))\n",
    "\n",
    "#complete_model = markovify.Text(\"\".join(comp))\n",
    "\n",
    "#pick a random date from the list on the page\n",
    "eventDate = random.choice(dates).strip() + \": \"\n",
    "\n",
    "#this prints out sentences for the split up events\n",
    "print(\"SHORT SENTENCE\")\n",
    "for i in range(5):\n",
    "    print(eventDate + textModel.make_short_sentence(140-len(eventDate)))"
   ]
  },
  {
   "cell_type": "code",
   "execution_count": null,
   "metadata": {
    "collapsed": true
   },
   "outputs": [],
   "source": []
  }
 ],
 "metadata": {
  "kernelspec": {
   "display_name": "Python 3",
   "language": "python",
   "name": "python3"
  },
  "language_info": {
   "codemirror_mode": {
    "name": "ipython",
    "version": 3
   },
   "file_extension": ".py",
   "mimetype": "text/x-python",
   "name": "python",
   "nbconvert_exporter": "python",
   "pygments_lexer": "ipython3",
   "version": "3.6.1"
  }
 },
 "nbformat": 4,
 "nbformat_minor": 2
}
