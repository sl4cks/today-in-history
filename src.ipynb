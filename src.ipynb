{
 "cells": [
  {
   "cell_type": "code",
   "execution_count": 6,
   "metadata": {},
   "outputs": [
    {
     "name": "stdout",
     "output_type": "stream",
     "text": [
      "Now running for  https://en.wikipedia.org/wiki/June_10\n"
     ]
    }
   ],
   "source": [
    "from bs4 import BeautifulSoup as bsoup #need bs for that sweet, sweet web scraping\n",
    "from urllib.request import urlopen #need to get url\n",
    "from datetime import date #need to pull the current date\n",
    "import calendar #calendar can find the name of the month\n",
    "import markovify\n",
    "import random\n",
    "\n",
    "#find today's date and fetch the wiki page\n",
    "today = date.today()\n",
    "#could also possibly add http://www.onthisday.com/today/events.php for stuff\n",
    "url = \"https://en.wikipedia.org/wiki/\"+calendar.month_name[today.month]+\"_\"+str(today.day)\n",
    "print(\"Now running for \", url) #just checking\n",
    "\n",
    "#open the page and turn it into soup\n",
    "content = urlopen(url).read()\n",
    "soup = bsoup(content, \"lxml\")\n",
    "#print(soup.prettify())"
   ]
  },
  {
   "cell_type": "code",
   "execution_count": 7,
   "metadata": {
    "collapsed": true
   },
   "outputs": [],
   "source": [
    "#gets the unordered list for events that day\n",
    "#events = soup.find_all(\"ul\")[1]\n",
    "events_li = soup.find_all(\"ul\")[1].find_all(\"li\")\n",
    "#print(events) just for testing"
   ]
  },
  {
   "cell_type": "code",
   "execution_count": 8,
   "metadata": {
    "scrolled": true
   },
   "outputs": [
    {
     "name": "stdout",
     "output_type": "stream",
     "text": [
      "<class 'bs4.element.ResultSet'>\n"
     ]
    }
   ],
   "source": [
    "#lists for the event dates and the events themselves\n",
    "dates = [] #the isolated dates\n",
    "events = [] #events\n",
    "comp = [] #both together (unused at the moment as markovify doesn't work for it\n",
    "print(type(events_li))\n",
    "\n",
    "#iterate through all events in the list\n",
    "for event in events_li:\n",
    "    #comp.append(event.get_text())\n",
    "    #split them to separate date and description\n",
    "    temp = event.get_text().split(\"–\")\n",
    "    #add date to dates\n",
    "    dates.append(temp[0])\n",
    "    #take a slice of the rest and join it to take care of the '–' char elsewhere\n",
    "    events.append(\"\".join(temp[1::]))\n",
    "# check it out\n",
    "# print(dates)\n",
    "# for each in events:\n",
    "#    print(each)"
   ]
  },
  {
   "cell_type": "code",
   "execution_count": 9,
   "metadata": {},
   "outputs": [
    {
     "name": "stdout",
     "output_type": "stream",
     "text": [
      "SHORT SENTENCE\n",
      "1964: In baseball, 15-year-old Joe Nuxhall of the Committee of Public Safety installing the revolutionary dictatorship.\n",
      "1964: A landslide dam on the island of Cuba.\n",
      "1964: SpanishAmerican War: U.S. Marines land on the Thames in London.\n",
      "1964: The Battle of Pelekanon results in a naval attack on Han River forts on Kanghwa Island, Korea.\n",
      "1964: Signing of the Congress of Berlin and the United Kingdom.\n"
     ]
    }
   ],
   "source": [
    "#time to get into real markov stuff\n",
    "text_model = markovify.Text(\"\".join(events))\n",
    "#complete_model = markovify.Text(\"\".join(comp))\n",
    "\n",
    "#pick a random date from the list on the page\n",
    "event_date = random.choice(dates).strip() + \": \"\n",
    "\n",
    "#this prints out sentences for the split up events\n",
    "print(\"SHORT SENTENCE\")\n",
    "for i in range(5):\n",
    "    print(event_date + text_model.make_short_sentence(140-len(event_date)))\n",
    "# print(\"\\nLONG SENTENCE\")\n",
    "# for j in range(10):\n",
    "#     print(text_model.make_sentence())\n",
    "\n",
    "#testing with full data (always returns none)\n",
    "# for k in range(10):\n",
    "#     print(complete_model.make_short_sentence(140))"
   ]
  },
  {
   "cell_type": "code",
   "execution_count": null,
   "metadata": {
    "collapsed": true
   },
   "outputs": [],
   "source": []
  }
 ],
 "metadata": {
  "kernelspec": {
   "display_name": "Python 3",
   "language": "python",
   "name": "python3"
  },
  "language_info": {
   "codemirror_mode": {
    "name": "ipython",
    "version": 3
   },
   "file_extension": ".py",
   "mimetype": "text/x-python",
   "name": "python",
   "nbconvert_exporter": "python",
   "pygments_lexer": "ipython3",
   "version": "3.6.1"
  }
 },
 "nbformat": 4,
 "nbformat_minor": 2
}
