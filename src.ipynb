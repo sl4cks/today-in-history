{
 "cells": [
  {
   "cell_type": "code",
   "execution_count": 209,
   "metadata": {},
   "outputs": [],
   "source": [
    "from bs4 import BeautifulSoup as bsoup #need bs for that sweet, sweet web scraping\n",
    "from urllib.request import urlopen #need to get url\n",
    "import requests\n",
    "from datetime import date #need to pull the current date\n",
    "import calendar #calendar can find the name of the month\n",
    "import string\n",
    "import markovify\n",
    "import random\n",
    "\n",
    "headers = {'User-Agent':'Mozilla/5.0'}"
   ]
  },
  {
   "cell_type": "code",
   "execution_count": 210,
   "metadata": {},
   "outputs": [
    {
     "name": "stdout",
     "output_type": "stream",
     "text": [
      "Now running for  https://en.wikipedia.org/wiki/June_12\n"
     ]
    }
   ],
   "source": [
    "#find today's date and fetch the wiki page\n",
    "today = date.today()\n",
    "wikiUrl = \"https://en.wikipedia.org/wiki/\"+calendar.month_name[today.month]+\"_\"+str(today.day)\n",
    "print(\"Now running for \", wikiUrl) #just checking\n",
    "\n",
    "wikiPage = requests.get(wikiUrl)\n",
    "wikiSoup = bsoup(wikiPage.text, \"html.parser\")\n",
    "\n",
    "#gets the unordered list for events that day\n",
    "events_li = wikiSoup.find_all(\"ul\")[1].find_all(\"li\")"
   ]
  },
  {
   "cell_type": "code",
   "execution_count": 211,
   "metadata": {},
   "outputs": [],
   "source": [
    "dayUrl = \"http://www.onthisday.com/today/events.php\"\n",
    "page = requests.get(dayUrl)\n",
    "daySoup = bsoup(page.text, \"html.parser\")\n",
    "dayList = daySoup.findAll(\"li\", { \"class\" : \"event-list__item\" })\n",
    "specials = daySoup.find_all(\"p\") #some events are in paragraph tags\n",
    "dayList.extend(specials[2:len(specials)-1])"
   ]
  },
  {
   "cell_type": "code",
   "execution_count": 212,
   "metadata": {
    "collapsed": true,
    "scrolled": true
   },
   "outputs": [],
   "source": [
    "#lists for the event dates and the events themselves\n",
    "dates = [] #the isolated dates\n",
    "events = [] #events\n",
    "\n",
    "#iterate through all events in the list\n",
    "for event in events_li:\n",
    "    #split them to separate date and description\n",
    "    temp = event.get_text().split(\"–\")\n",
    "    #add date to dates\n",
    "    dates.append(temp[0])\n",
    "    #take a slice of the rest and join it to take care of the '–' char elsewhere\n",
    "    events.append(\"\".join(temp[1::]))\n",
    "    #this line would take out the titles leading each line\n",
    "    #events.append(\"\".join(\"\".join(temp[1::]).split(\":\")[1::]))"
   ]
  },
  {
   "cell_type": "code",
   "execution_count": 213,
   "metadata": {},
   "outputs": [],
   "source": [
    "#insert events from on this day\n",
    "for event in dayList:\n",
    "    #get the string of the event and strip the leading date or range of dates\n",
    "    eventString = event.get_text().lstrip(string.digits+string.whitespace + '[-]')\n",
    "    #get a string of the rest and add period if there isn't one for markovify\n",
    "    if not eventString[len(eventString)-1] == \".\":\n",
    "        eventString += \".\"\n",
    "    events.append(\" \" + eventString)"
   ]
  },
  {
   "cell_type": "code",
   "execution_count": 214,
   "metadata": {
    "scrolled": false
   },
   "outputs": [
    {
     "name": "stdout",
     "output_type": "stream",
     "text": [
      "SHORT SENTENCE\n",
      "1942: TSC: All television broadcasts in the Roman Catholic Church.\n",
      "1775: In 2017 Jacinta and Francisco Marto, aged 10 and 9 at the University of Michigan School of Music.\n",
      "1898: Austro-Hungarian Empire forms. th British Golf Open: J.H.\n",
      "1994: Battle of Augsburg: The Hungarians defeat the East Frankish army under Gen Turenne crosses Rhine at Lobith.\n",
      "1943: Washington Senators beat Chicago White Sox 15-7. th US Golf Open: Bobby Jones shoots a 326 at Royal St. George's Golf Club.\n",
      "1964: An insurrection delivers Paris to the amnesty: Samuel Adams and John Hancock, if captured, were to be unconstitutional.\n",
      "1429: The Central African Republic's former Emperor Jean-Bédel Bokassa is sentenced to life in prison for sabotage in South Africa.\n",
      "1954: Netherlands Society for Currency & Coin collecting forms. th Belmont: Bobby Swim aboard Calvin wins in 2:42.25.\n",
      "1987: Ireland rejects the Lisbon Treaty in a human-powered aircraft; flight took 2 hrs, 49 min.\n",
      "1993: Battle of the European Union.\n",
      "1994: USSR launches Venera 4 for heavyweight boxing title.\n",
      "1991: Babe Didrikson is 1st American to win MVP. th NBA Championship: Dallas Mavericks beat Miami Heat, 4 games to 0.\n",
      "1550: England installs a municipal government in New York after English Duke of York.\n",
      "1775: Bryan Allen flew man-powered Gossamer Albatross over English Channel in the Armagh rail disaster, Ireland.\n",
      "1954: Aleksandr Solzhenitsyn, Russian novelist and historian, is awarded the State Prize of the Gabbard begins and lasts until June 13.\n",
      "1944: St Louis gets record 10 hits in a referendum, thus putting into question the reform programme of the nomadic warriors.\n",
      "1935: The Republic of Yugoslavia.\n",
      "1987: Louise Suggs wins LPGA Bluegrass Ladies Golf Invitational.\n",
      "1979: Central Afr Rep ex-emperor Jean-Bédell Bokassa sentenced to life in prison in South Africa.\n",
      "1999: At the Brandenburg Gate U.S. President Ronald Reagan said he would submit to periodic medical tests.\n",
      "1987: The State Bank of the Russian Federation formally declares its sovereignty.\n",
      "1653: Battle of the President of Russia.\n",
      "1999: Louise Suggs wins LPGA Bluegrass Ladies Golf Invitational.\n",
      "1943: There would be only two exceptions to the city's old Jewish graveyard and shot.\n",
      "1898: First Anglo-Dutch War: Battle of Augsburg: The Hungarians defeat the East Frankish army under Gen Turenne crosses Rhine at Lobith.\n",
      "1944: Niagara Falls, Ontario incorporated as a saint, making him at the time of their deaths, are declared saints.\n",
      "1939: French army under King Louis the Child, using the famous feigned retreat tactic of the Gabbard begins and lasts until June 13.\n",
      "1381: Anne Frank gets her diary as a saint, making him at the time of their deaths, are declared saints.\n",
      "1798: Mickey Wright wins LPGA Rochester Golf International.\n",
      "1935: At the Brandenburg Gate U.S. President Ronald Reagan said he would submit to periodic medical tests.\n",
      "1999: Mei-Chi Cheng wins LPGA Bluegrass Ladies Golf Invitational.\n",
      "1967: American paratroopers of the nomadic warriors.\n",
      "1935: David Berkowitz sentenced in NY Supreme Court unanimously ends laws against interracial marriages.\n",
      "1418: Louise Suggs wins LPGA Bluegrass Ladies Golf Invitational.\n",
      "1987: The Virginia Declaration of Rights.\n",
      "1963: David Berkowitz sentenced in NY Supreme Court unanimously ends laws against interracial marriages.\n",
      "1240: The Virginia Declaration of Rights.\n",
      "1775: Milwaukee Braves Jim Wilson no-hits Phillies, 3-0 in 5 inning game.\n",
      "1999: Forty-nine civilians are killed in a season.\n",
      "1991: Pope Pius XII canonises Dominic Savio, who was 14 years old at the University of Michigan School of Music.\n",
      "1939: Aleksandr Solzhenitsyn, Russian novelist and historian, is awarded the State Prize of the Gabbard begins and lasts until June 13.\n",
      "1993: Babe Didrikson is 1st American to win MVP. th NBA Championship: Dallas Mavericks beat Miami Heat, 4 games to 0.\n",
      "1963: A disputed presidential election in Iran following the presidential election.\n",
      "1939: Russia Day: The parliament of the Russian Empire is established.\n",
      "1899: Missouri Governor Claiborne Jackson calls for doubling the German Navy within 20 years.\n",
      "1418: US Secret Service extends protection of the Russian Empire is established.\n",
      "1987: An insurrection delivers Paris to the city's old Jewish graveyard and shot.\n",
      "2016: In 2017 Jacinta and Francisco Marto, aged 10 and 9 at the time the youngest unmartyred saint in the Gossamer Albatross.\n",
      "1987: Andy Hampton is 1st American to win MVP. th NBA Championship: Los Angeles Lakers beat New Jersey Nets, 4 games to 0.\n",
      "1987: Russia Day: The parliament of the European Union.\n"
     ]
    }
   ],
   "source": [
    "#time to get into real markov stuff\n",
    "textModel = markovify.Text(\"\".join(events))\n",
    "\n",
    "#complete_model = markovify.Text(\"\".join(comp))\n",
    "\n",
    "#pick a random date from the list on the page\n",
    "eventDate = random.choice(dates).strip() + \": \"\n",
    "\n",
    "#this prints out sentences for the split up events\n",
    "print(\"SHORT SENTENCE\")\n",
    "for i in range(50):\n",
    "    eventDate = random.choice(dates).strip() + \": \"\n",
    "    print(eventDate + textModel.make_short_sentence(140-len(eventDate)))"
   ]
  },
  {
   "cell_type": "code",
   "execution_count": null,
   "metadata": {
    "collapsed": true
   },
   "outputs": [],
   "source": []
  }
 ],
 "metadata": {
  "kernelspec": {
   "display_name": "Python 3",
   "language": "python",
   "name": "python3"
  },
  "language_info": {
   "codemirror_mode": {
    "name": "ipython",
    "version": 3
   },
   "file_extension": ".py",
   "mimetype": "text/x-python",
   "name": "python",
   "nbconvert_exporter": "python",
   "pygments_lexer": "ipython3",
   "version": "3.6.1"
  }
 },
 "nbformat": 4,
 "nbformat_minor": 2
}
